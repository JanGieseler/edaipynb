{
 "cells": [
  {
   "cell_type": "markdown",
   "metadata": {},
   "source": [
    "# Data in and output\n",
    "\n",
    "Here we will focus on basic saving and loading data as .csv files and parameters as .json files.\n"
   ]
  },
  {
   "cell_type": "code",
   "execution_count": 37,
   "metadata": {
    "ExecuteTime": {
     "end_time": "2020-01-07T09:41:22.447574Z",
     "start_time": "2020-01-07T09:41:22.425348Z"
    }
   },
   "outputs": [],
   "source": [
    "import numpy as np # widely used python library for data manipulation, the 'as' allows you to rename the package on import\n",
    "import pandas as pd\n",
    "import json, yaml\n",
    "import sys # get some information about the current OS\n",
    "\n",
    "import matplotlib.pyplot as plt\n",
    "\n",
    "# show figures inline in the notebook\n",
    "%matplotlib inline \n",
    "\n",
    "\n",
    "from pathlib import Path  # working with path objects - usefull for OS independent code\n",
    "\n",
    "path_data = Path('./data_tmp')\n",
    "\n",
    "# create the folder if it doesn't exist\n",
    "if not data_path.exists(): data_path.mkdir()"
   ]
  },
  {
   "cell_type": "markdown",
   "metadata": {},
   "source": [
    "## Define some functions"
   ]
  },
  {
   "cell_type": "code",
   "execution_count": 29,
   "metadata": {
    "ExecuteTime": {
     "end_time": "2020-01-07T09:31:11.539246Z",
     "start_time": "2020-01-07T09:31:11.526008Z"
    }
   },
   "outputs": [],
   "source": [
    "# def my_function()\n",
    "my_function = lambda x, a, b : np.sin(a*x)*np.exp(-b*x)\n",
    "\n",
    "\n",
    "\n",
    "def save_dict(dictionary, filename):\n",
    "    \"\"\"\n",
    "    saves the dictionary `dictionary` to the file `filename`\n",
    "    \n",
    "    \"\"\"\n",
    "    with open(filename, 'w') as outfile:\n",
    "        json.dump(dictionary, outfile)\n",
    "        \n",
    "def load_dict(filename):\n",
    "    \"\"\"\n",
    "    loads the file `filename` into a dictionary\n",
    "    \n",
    "    \"\"\"\n",
    "    with open(filename, 'r') as infile:\n",
    "        d = yaml.safe_load(infile)\n",
    "    \n",
    "    return d\n"
   ]
  },
  {
   "cell_type": "markdown",
   "metadata": {},
   "source": [
    "## Saving data"
   ]
  },
  {
   "cell_type": "code",
   "execution_count": 31,
   "metadata": {
    "ExecuteTime": {
     "end_time": "2020-01-07T09:31:34.895160Z",
     "start_time": "2020-01-07T09:31:34.711666Z"
    }
   },
   "outputs": [
    {
     "data": {
      "text/plain": [
       "Text(0, 0.5, 'y')"
      ]
     },
     "execution_count": 31,
     "metadata": {},
     "output_type": "execute_result"
    },
    {
     "data": {
      "image/png": "[encoded data removed]",
      "text/plain": [
       "<Figure size 432x288 with 1 Axes>"
      ]
     },
     "metadata": {
      "needs_background": "light"
     },
     "output_type": "display_data"
    }
   ],
   "source": [
    "# create some data\n",
    "x = np.linspace(0,10,250)\n",
    "\n",
    "parameters = dict(\n",
    "    a = 1,\n",
    "    b = 0.5\n",
    ")\n",
    "\n",
    "y = my_function(x, **parameters)\n",
    "\n",
    "\n",
    "# plot the data\n",
    "plt.plot(x,y)\n",
    "plt.xlabel('x')\n",
    "plt.ylabel('y')"
   ]
  },
  {
   "cell_type": "code",
   "execution_count": 67,
   "metadata": {
    "ExecuteTime": {
     "end_time": "2020-01-07T09:48:49.770392Z",
     "start_time": "2020-01-07T09:48:49.744461Z"
    }
   },
   "outputs": [
    {
     "data": {
      "text/html": [
       "<div>\n",
       "<style scoped>\n",
       "    .dataframe tbody tr th:only-of-type {\n",
       "        vertical-align: middle;\n",
       "    }\n",
       "\n",
       "    .dataframe tbody tr th {\n",
       "        vertical-align: top;\n",
       "    }\n",
       "\n",
       "    .dataframe thead th {\n",
       "        text-align: right;\n",
       "    }\n",
       "</style>\n",
       "<table border=\"1\" class=\"dataframe\">\n",
       "  <thead>\n",
       "    <tr style=\"text-align: right;\">\n",
       "      <th></th>\n",
       "      <th>x</th>\n",
       "      <th>y</th>\n",
       "    </tr>\n",
       "  </thead>\n",
       "  <tbody>\n",
       "    <tr>\n",
       "      <th>0</th>\n",
       "      <td>0.000000</td>\n",
       "      <td>0.000000</td>\n",
       "    </tr>\n",
       "    <tr>\n",
       "      <th>1</th>\n",
       "      <td>0.040161</td>\n",
       "      <td>0.039352</td>\n",
       "    </tr>\n",
       "    <tr>\n",
       "      <th>2</th>\n",
       "      <td>0.080321</td>\n",
       "      <td>0.077077</td>\n",
       "    </tr>\n",
       "    <tr>\n",
       "      <th>3</th>\n",
       "      <td>0.120482</td>\n",
       "      <td>0.113164</td>\n",
       "    </tr>\n",
       "    <tr>\n",
       "      <th>4</th>\n",
       "      <td>0.160643</td>\n",
       "      <td>0.147607</td>\n",
       "    </tr>\n",
       "    <tr>\n",
       "      <th>5</th>\n",
       "      <td>0.200803</td>\n",
       "      <td>0.180403</td>\n",
       "    </tr>\n",
       "    <tr>\n",
       "      <th>6</th>\n",
       "      <td>0.240964</td>\n",
       "      <td>0.211552</td>\n",
       "    </tr>\n",
       "    <tr>\n",
       "      <th>7</th>\n",
       "      <td>0.281124</td>\n",
       "      <td>0.241056</td>\n",
       "    </tr>\n",
       "    <tr>\n",
       "      <th>8</th>\n",
       "      <td>0.321285</td>\n",
       "      <td>0.268922</td>\n",
       "    </tr>\n",
       "    <tr>\n",
       "      <th>9</th>\n",
       "      <td>0.361446</td>\n",
       "      <td>0.295161</td>\n",
       "    </tr>\n",
       "    <tr>\n",
       "      <th>10</th>\n",
       "      <td>0.401606</td>\n",
       "      <td>0.319783</td>\n",
       "    </tr>\n",
       "    <tr>\n",
       "      <th>11</th>\n",
       "      <td>0.441767</td>\n",
       "      <td>0.342804</td>\n",
       "    </tr>\n",
       "    <tr>\n",
       "      <th>12</th>\n",
       "      <td>0.481928</td>\n",
       "      <td>0.364241</td>\n",
       "    </tr>\n",
       "    <tr>\n",
       "      <th>13</th>\n",
       "      <td>0.522088</td>\n",
       "      <td>0.384115</td>\n",
       "    </tr>\n",
       "    <tr>\n",
       "      <th>14</th>\n",
       "      <td>0.562249</td>\n",
       "      <td>0.402448</td>\n",
       "    </tr>\n",
       "    <tr>\n",
       "      <th>15</th>\n",
       "      <td>0.602410</td>\n",
       "      <td>0.419264</td>\n",
       "    </tr>\n",
       "    <tr>\n",
       "      <th>16</th>\n",
       "      <td>0.642570</td>\n",
       "      <td>0.434590</td>\n",
       "    </tr>\n",
       "    <tr>\n",
       "      <th>17</th>\n",
       "      <td>0.682731</td>\n",
       "      <td>0.448453</td>\n",
       "    </tr>\n",
       "    <tr>\n",
       "      <th>18</th>\n",
       "      <td>0.722892</td>\n",
       "      <td>0.460885</td>\n",
       "    </tr>\n",
       "    <tr>\n",
       "      <th>19</th>\n",
       "      <td>0.763052</td>\n",
       "      <td>0.471917</td>\n",
       "    </tr>\n",
       "    <tr>\n",
       "      <th>20</th>\n",
       "      <td>0.803213</td>\n",
       "      <td>0.481582</td>\n",
       "    </tr>\n",
       "    <tr>\n",
       "      <th>21</th>\n",
       "      <td>0.843373</td>\n",
       "      <td>0.489915</td>\n",
       "    </tr>\n",
       "    <tr>\n",
       "      <th>22</th>\n",
       "      <td>0.883534</td>\n",
       "      <td>0.496952</td>\n",
       "    </tr>\n",
       "    <tr>\n",
       "      <th>23</th>\n",
       "      <td>0.923695</td>\n",
       "      <td>0.502730</td>\n",
       "    </tr>\n",
       "    <tr>\n",
       "      <th>24</th>\n",
       "      <td>0.963855</td>\n",
       "      <td>0.507288</td>\n",
       "    </tr>\n",
       "    <tr>\n",
       "      <th>25</th>\n",
       "      <td>1.004016</td>\n",
       "      <td>0.510663</td>\n",
       "    </tr>\n",
       "    <tr>\n",
       "      <th>26</th>\n",
       "      <td>1.044177</td>\n",
       "      <td>0.512897</td>\n",
       "    </tr>\n",
       "    <tr>\n",
       "      <th>27</th>\n",
       "      <td>1.084337</td>\n",
       "      <td>0.514030</td>\n",
       "    </tr>\n",
       "    <tr>\n",
       "      <th>28</th>\n",
       "      <td>1.124498</td>\n",
       "      <td>0.514102</td>\n",
       "    </tr>\n",
       "    <tr>\n",
       "      <th>29</th>\n",
       "      <td>1.164659</td>\n",
       "      <td>0.513156</td>\n",
       "    </tr>\n",
       "    <tr>\n",
       "      <th>...</th>\n",
       "      <td>...</td>\n",
       "      <td>...</td>\n",
       "    </tr>\n",
       "    <tr>\n",
       "      <th>220</th>\n",
       "      <td>8.835341</td>\n",
       "      <td>0.006705</td>\n",
       "    </tr>\n",
       "    <tr>\n",
       "      <th>221</th>\n",
       "      <td>8.875502</td>\n",
       "      <td>0.006172</td>\n",
       "    </tr>\n",
       "    <tr>\n",
       "      <th>222</th>\n",
       "      <td>8.915663</td>\n",
       "      <td>0.005648</td>\n",
       "    </tr>\n",
       "    <tr>\n",
       "      <th>223</th>\n",
       "      <td>8.955823</td>\n",
       "      <td>0.005133</td>\n",
       "    </tr>\n",
       "    <tr>\n",
       "      <th>224</th>\n",
       "      <td>8.995984</td>\n",
       "      <td>0.004628</td>\n",
       "    </tr>\n",
       "    <tr>\n",
       "      <th>225</th>\n",
       "      <td>9.036145</td>\n",
       "      <td>0.004134</td>\n",
       "    </tr>\n",
       "    <tr>\n",
       "      <th>226</th>\n",
       "      <td>9.076305</td>\n",
       "      <td>0.003651</td>\n",
       "    </tr>\n",
       "    <tr>\n",
       "      <th>227</th>\n",
       "      <td>9.116466</td>\n",
       "      <td>0.003180</td>\n",
       "    </tr>\n",
       "    <tr>\n",
       "      <th>228</th>\n",
       "      <td>9.156627</td>\n",
       "      <td>0.002722</td>\n",
       "    </tr>\n",
       "    <tr>\n",
       "      <th>229</th>\n",
       "      <td>9.196787</td>\n",
       "      <td>0.002276</td>\n",
       "    </tr>\n",
       "    <tr>\n",
       "      <th>230</th>\n",
       "      <td>9.236948</td>\n",
       "      <td>0.001843</td>\n",
       "    </tr>\n",
       "    <tr>\n",
       "      <th>231</th>\n",
       "      <td>9.277108</td>\n",
       "      <td>0.001423</td>\n",
       "    </tr>\n",
       "    <tr>\n",
       "      <th>232</th>\n",
       "      <td>9.317269</td>\n",
       "      <td>0.001017</td>\n",
       "    </tr>\n",
       "    <tr>\n",
       "      <th>233</th>\n",
       "      <td>9.357430</td>\n",
       "      <td>0.000625</td>\n",
       "    </tr>\n",
       "    <tr>\n",
       "      <th>234</th>\n",
       "      <td>9.397590</td>\n",
       "      <td>0.000248</td>\n",
       "    </tr>\n",
       "    <tr>\n",
       "      <th>235</th>\n",
       "      <td>9.437751</td>\n",
       "      <td>-0.000116</td>\n",
       "    </tr>\n",
       "    <tr>\n",
       "      <th>236</th>\n",
       "      <td>9.477912</td>\n",
       "      <td>-0.000465</td>\n",
       "    </tr>\n",
       "    <tr>\n",
       "      <th>237</th>\n",
       "      <td>9.518072</td>\n",
       "      <td>-0.000799</td>\n",
       "    </tr>\n",
       "    <tr>\n",
       "      <th>238</th>\n",
       "      <td>9.558233</td>\n",
       "      <td>-0.001118</td>\n",
       "    </tr>\n",
       "    <tr>\n",
       "      <th>239</th>\n",
       "      <td>9.598394</td>\n",
       "      <td>-0.001423</td>\n",
       "    </tr>\n",
       "    <tr>\n",
       "      <th>240</th>\n",
       "      <td>9.638554</td>\n",
       "      <td>-0.001713</td>\n",
       "    </tr>\n",
       "    <tr>\n",
       "      <th>241</th>\n",
       "      <td>9.678715</td>\n",
       "      <td>-0.001988</td>\n",
       "    </tr>\n",
       "    <tr>\n",
       "      <th>242</th>\n",
       "      <td>9.718876</td>\n",
       "      <td>-0.002248</td>\n",
       "    </tr>\n",
       "    <tr>\n",
       "      <th>243</th>\n",
       "      <td>9.759036</td>\n",
       "      <td>-0.002494</td>\n",
       "    </tr>\n",
       "    <tr>\n",
       "      <th>244</th>\n",
       "      <td>9.799197</td>\n",
       "      <td>-0.002725</td>\n",
       "    </tr>\n",
       "    <tr>\n",
       "      <th>245</th>\n",
       "      <td>9.839357</td>\n",
       "      <td>-0.002941</td>\n",
       "    </tr>\n",
       "    <tr>\n",
       "      <th>246</th>\n",
       "      <td>9.879518</td>\n",
       "      <td>-0.003143</td>\n",
       "    </tr>\n",
       "    <tr>\n",
       "      <th>247</th>\n",
       "      <td>9.919679</td>\n",
       "      <td>-0.003331</td>\n",
       "    </tr>\n",
       "    <tr>\n",
       "      <th>248</th>\n",
       "      <td>9.959839</td>\n",
       "      <td>-0.003505</td>\n",
       "    </tr>\n",
       "    <tr>\n",
       "      <th>249</th>\n",
       "      <td>10.000000</td>\n",
       "      <td>-0.003666</td>\n",
       "    </tr>\n",
       "  </tbody>\n",
       "</table>\n",
       "<p>250 rows × 2 columns</p>\n",
       "</div>"
      ],
      "text/plain": [
       "             x         y\n",
       "0     0.000000  0.000000\n",
       "1     0.040161  0.039352\n",
       "2     0.080321  0.077077\n",
       "3     0.120482  0.113164\n",
       "4     0.160643  0.147607\n",
       "5     0.200803  0.180403\n",
       "6     0.240964  0.211552\n",
       "7     0.281124  0.241056\n",
       "8     0.321285  0.268922\n",
       "9     0.361446  0.295161\n",
       "10    0.401606  0.319783\n",
       "11    0.441767  0.342804\n",
       "12    0.481928  0.364241\n",
       "13    0.522088  0.384115\n",
       "14    0.562249  0.402448\n",
       "15    0.602410  0.419264\n",
       "16    0.642570  0.434590\n",
       "17    0.682731  0.448453\n",
       "18    0.722892  0.460885\n",
       "19    0.763052  0.471917\n",
       "20    0.803213  0.481582\n",
       "21    0.843373  0.489915\n",
       "22    0.883534  0.496952\n",
       "23    0.923695  0.502730\n",
       "24    0.963855  0.507288\n",
       "25    1.004016  0.510663\n",
       "26    1.044177  0.512897\n",
       "27    1.084337  0.514030\n",
       "28    1.124498  0.514102\n",
       "29    1.164659  0.513156\n",
       "..         ...       ...\n",
       "220   8.835341  0.006705\n",
       "221   8.875502  0.006172\n",
       "222   8.915663  0.005648\n",
       "223   8.955823  0.005133\n",
       "224   8.995984  0.004628\n",
       "225   9.036145  0.004134\n",
       "226   9.076305  0.003651\n",
       "227   9.116466  0.003180\n",
       "228   9.156627  0.002722\n",
       "229   9.196787  0.002276\n",
       "230   9.236948  0.001843\n",
       "231   9.277108  0.001423\n",
       "232   9.317269  0.001017\n",
       "233   9.357430  0.000625\n",
       "234   9.397590  0.000248\n",
       "235   9.437751 -0.000116\n",
       "236   9.477912 -0.000465\n",
       "237   9.518072 -0.000799\n",
       "238   9.558233 -0.001118\n",
       "239   9.598394 -0.001423\n",
       "240   9.638554 -0.001713\n",
       "241   9.678715 -0.001988\n",
       "242   9.718876 -0.002248\n",
       "243   9.759036 -0.002494\n",
       "244   9.799197 -0.002725\n",
       "245   9.839357 -0.002941\n",
       "246   9.879518 -0.003143\n",
       "247   9.919679 -0.003331\n",
       "248   9.959839 -0.003505\n",
       "249  10.000000 -0.003666\n",
       "\n",
       "[250 rows x 2 columns]"
      ]
     },
     "execution_count": 67,
     "metadata": {},
     "output_type": "execute_result"
    }
   ],
   "source": [
    "# make a pandas dataframe\n",
    "df = pd.DataFrame.from_dict({'x':x, 'y':y})\n",
    "df"
   ]
  },
  {
   "cell_type": "code",
   "execution_count": 68,
   "metadata": {
    "ExecuteTime": {
     "end_time": "2020-01-07T09:48:50.521689Z",
     "start_time": "2020-01-07T09:48:50.506527Z"
    }
   },
   "outputs": [],
   "source": [
    "df.to_csv(path_data/'mydata.csv', index=None)"
   ]
  },
  {
   "cell_type": "markdown",
   "metadata": {
    "ExecuteTime": {
     "end_time": "2020-01-07T09:26:14.289922Z",
     "start_time": "2020-01-07T09:26:14.275457Z"
    }
   },
   "source": [
    "## loading data"
   ]
  },
  {
   "cell_type": "code",
   "execution_count": 69,
   "metadata": {
    "ExecuteTime": {
     "end_time": "2020-01-07T09:48:51.285874Z",
     "start_time": "2020-01-07T09:48:51.274367Z"
    }
   },
   "outputs": [],
   "source": [
    "df_in = pd.read_csv(path_data/'mydata.csv')"
   ]
  },
  {
   "cell_type": "code",
   "execution_count": 73,
   "metadata": {
    "ExecuteTime": {
     "end_time": "2020-01-07T09:49:42.098769Z",
     "start_time": "2020-01-07T09:49:41.920100Z"
    }
   },
   "outputs": [
    {
     "data": {
      "text/plain": [
       "<matplotlib.axes._subplots.AxesSubplot at 0x7f0d692b0828>"
      ]
     },
     "execution_count": 73,
     "metadata": {},
     "output_type": "execute_result"
    },
    {
     "data": {
      "image/png": "[encoded data removed]",
      "text/plain": [
       "<Figure size 432x288 with 1 Axes>"
      ]
     },
     "metadata": {
      "needs_background": "light"
     },
     "output_type": "display_data"
    }
   ],
   "source": [
    "df_in.plot('x','y') # pandas also allows you to directly plot the data"
   ]
  },
  {
   "cell_type": "markdown",
   "metadata": {
    "ExecuteTime": {
     "end_time": "2020-01-07T09:50:02.961700Z",
     "start_time": "2020-01-07T09:50:02.957655Z"
    }
   },
   "source": [
    "## saving and loading dictionaries"
   ]
  },
  {
   "cell_type": "code",
   "execution_count": 42,
   "metadata": {
    "ExecuteTime": {
     "end_time": "2020-01-07T09:42:30.115982Z",
     "start_time": "2020-01-07T09:42:30.110712Z"
    }
   },
   "outputs": [
    {
     "data": {
      "text/plain": [
       "{'a': 1, 'b': 0.5}"
      ]
     },
     "execution_count": 42,
     "metadata": {},
     "output_type": "execute_result"
    }
   ],
   "source": [
    "save_dict(parameters, path_data/'parameters.json') # save the dictionary\n",
    "\n",
    "load_dict(path_data/'parameters.json') # load the dictionary"
   ]
  },
  {
   "cell_type": "markdown",
   "metadata": {},
   "source": [
    "# save notebook as html"
   ]
  },
  {
   "cell_type": "code",
   "execution_count": 1,
   "metadata": {
    "ExecuteTime": {
     "end_time": "2020-01-07T16:42:49.216177Z",
     "start_time": "2020-01-07T16:42:45.136175Z"
    }
   },
   "outputs": [
    {
     "data": {
      "application/javascript": [
       "IPython.notebook.save_notebook()"
      ]
     },
     "metadata": {},
     "output_type": "display_data"
    },
    {
     "name": "stdout",
     "output_type": "stream",
     "text": [
      "../../html/2) Data_in_and_out.html saved\n"
     ]
    }
   ],
   "source": [
    "from edaipynb import save_notebook_as_html\n",
    "save_notebook_as_html('../../html')"
   ]
  },
  {
   "cell_type": "code",
   "execution_count": null,
   "metadata": {},
   "outputs": [],
   "source": []
  }
 ],
 "metadata": {
  "hide_input": false,
  "kernelspec": {
   "display_name": "Python [default]",
   "language": "python",
   "name": "python3"
  },
  "language_info": {
   "codemirror_mode": {
    "name": "ipython",
    "version": 3
   },
   "file_extension": ".py",
   "mimetype": "text/x-python",
   "name": "python",
   "nbconvert_exporter": "python",
   "pygments_lexer": "ipython3",
   "version": "3.6.8"
  },
  "toc": {
   "base_numbering": 1,
   "nav_menu": {},
   "number_sections": true,
   "sideBar": true,
   "skip_h1_title": false,
   "title_cell": "Table of Contents",
   "title_sidebar": "Contents",
   "toc_cell": false,
   "toc_position": {},
   "toc_section_display": true,
   "toc_window_display": false
  }
 },
 "nbformat": 4,
 "nbformat_minor": 2
}
