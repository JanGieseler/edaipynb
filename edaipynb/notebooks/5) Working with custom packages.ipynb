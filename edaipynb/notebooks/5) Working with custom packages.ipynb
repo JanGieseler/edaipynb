{
 "cells": [
  {
   "cell_type": "markdown",
   "metadata": {
    "ExecuteTime": {
     "end_time": "2020-01-07T10:44:25.429130Z",
     "start_time": "2020-01-07T10:44:25.423124Z"
    }
   },
   "source": [
    "# Working with custom packages\n",
    "\n",
    "\n",
    "Check out the Readme.md to for how to install all the tools needed to create our own python package.\n",
    "\n",
    "Let's start with the [minimnal structure](https://python-packaging.readthedocs.io/en/latest/minimal.html).\n",
    " ```\n",
    "edaipynb/\n",
    "    edaipynb/\n",
    "        __init__.py\n",
    "    setup.py\n",
    "``` \n",
    "Note that the project name appears twice here. The higher level is the project and the lower level contains the actual source code. I also already included `setup.py`, which will be used later to distribute the package. The `__init__.py` file indicates that the folder `edaipynb` is actually a python package and not just a simple folder. At this stage `__init__.py` is just an empty text file.\n",
    "\n",
    "Let's create this minimal package and link it to github.\n",
    "\n",
    "- In PyCharm go to `File->New project`, change untitled for the project name (e.g. edaipynb) and select the python interpreter. You can either setup a custom virtual environment or select the standard interpreter. Let's do the latter for now.\n",
    "- Add a new python package with the same name as your project (this automatically creates the `__init__.py` in the new subfolder).\n",
    "- Add the `setup.py` file for example by copying and modifying the file from https://github.com/JanGieseler/edaipynb/setup.py.\n",
    "- add the version number to `edaipynb/__init__.py` by `__version__ = '0.1a0'`\n",
    "- add a `readme.md` and add some [markdown](https://www.markdownguide.org/cheat-sheet) text \n",
    "\n",
    "Your file structure should now looks something like:\n",
    " ```\n",
    "edaipynb/\n",
    "    edaipynb/\n",
    "        __init__.py\n",
    "    setup.py\n",
    "    readme.md\n",
    "``` \n",
    "\n",
    "\n",
    "Tip: The `edaipynb` follows the above structure, so that you can just use it as a template. \n",
    "\n",
    "\n",
    "\n",
    "Now we push the new project to github. Go to `VCS->Import into Version Control->Share Project on Github`\n",
    "\n",
    "That's it!! Now you can check in a browser that your new project  actually appears in your github projects.\n",
    "\n",
    "\n",
    "\n",
    "\n",
    "\n",
    "\n",
    "\n",
    "\n",
    "In the following we will use `edaipynb` as an example for how to work with a custom package.\n",
    "\n",
    "\n",
    "The file structure of `edaipynb` should now looks something like:\n",
    "\n",
    " ```\n",
    "edaipynb/\n",
    "    edaipynb/\n",
    "        __init__.py\n",
    "        tools/\n",
    "            notebook.py\n",
    "    setup.py\n",
    "    readme.md\n",
    "``` \n",
    "\n",
    "If you cloned the github version using pycharm you will have a copy located at `/home/PycharmProjects/`\n",
    "\n",
    "If you installed it with pip it will be located in the `site-packages` folder, e.g. `/home/anaconda3/lib/python3.7/site-packages`\n",
    "\n",
    "To install call `!pip install git+https://github.com/JanGieseler/edaipynb.git`\n",
    "\n",
    "It is also possible to have both. For exampe the PyCharm version being the development version and the installed 'site-packeges' version the production version, ready for distribution. Below we will see how to load one or the other.\n",
    "\n"
   ]
  },
  {
   "cell_type": "code",
   "execution_count": 1,
   "metadata": {
    "ExecuteTime": {
     "end_time": "2020-01-07T12:42:00.589653Z",
     "start_time": "2020-01-07T12:42:00.248965Z"
    }
   },
   "outputs": [
    {
     "name": "stdout",
     "output_type": "stream",
     "text": [
      "version: 0.1a0\n",
      "location: /home/jgieseler/PycharmProjects/edaipynb/edaipynb/__init__.py\n"
     ]
    }
   ],
   "source": [
    "import sys # get some information about the current OS\n",
    "import numpy as np\n",
    "from pathlib import Path\n",
    "# uncomment the following line to use the PyCharm version\n",
    "sys.path = ['/home/jgieseler/PycharmProjects/edaipynb/'] + sys.path \n",
    "import edaipynb\n",
    "\n",
    "print('version:', edaipynb.__version__)\n",
    "print('location:', edaipynb.__file__)  # check that you loaded the version that you want"
   ]
  },
  {
   "cell_type": "code",
   "execution_count": 2,
   "metadata": {
    "ExecuteTime": {
     "end_time": "2020-01-07T12:42:05.038268Z",
     "start_time": "2020-01-07T12:42:05.013030Z"
    }
   },
   "outputs": [],
   "source": [
    "# the following command reloads external packages that have been changed externally without the need to restart the kernel\n",
    "%load_ext autoreload\n",
    "%autoreload 2"
   ]
  },
  {
   "cell_type": "markdown",
   "metadata": {},
   "source": [
    "Try changing a function in `edaipynb` and without restarting the kernal, see the result change."
   ]
  },
  {
   "cell_type": "markdown",
   "metadata": {},
   "source": [
    "## explore some of the functions provided by edaipynb"
   ]
  },
  {
   "cell_type": "code",
   "execution_count": null,
   "metadata": {},
   "outputs": [],
   "source": [
    "from edaipynb import get_notebook_name, save_notebook_as_html"
   ]
  },
  {
   "cell_type": "code",
   "execution_count": 3,
   "metadata": {
    "ExecuteTime": {
     "end_time": "2020-01-07T12:42:05.812591Z",
     "start_time": "2020-01-07T12:42:05.764111Z"
    }
   },
   "outputs": [
    {
     "data": {
      "text/plain": [
       "'/home/jgieseler/PycharmProjects/edaipynb/edaipynb/notebooks/5) Working with custom packages.ipynb'"
      ]
     },
     "execution_count": 3,
     "metadata": {},
     "output_type": "execute_result"
    }
   ],
   "source": [
    "get_notebook_name()"
   ]
  },
  {
   "cell_type": "code",
   "execution_count": 5,
   "metadata": {
    "ExecuteTime": {
     "end_time": "2020-01-07T12:43:13.666091Z",
     "start_time": "2020-01-07T12:43:10.532873Z"
    }
   },
   "outputs": [
    {
     "data": {
      "application/javascript": [
       "IPython.notebook.save_notebook()"
      ]
     },
     "metadata": {},
     "output_type": "display_data"
    },
    {
     "name": "stdout",
     "output_type": "stream",
     "text": [
      "../html/5) Working with custom packages.html saved\n"
     ]
    }
   ],
   "source": [
    "save_notebook_as_html(Path('../html'))"
   ]
  }
 ],
 "metadata": {
  "kernelspec": {
   "display_name": "Python 3",
   "language": "python",
   "name": "python3"
  },
  "language_info": {
   "codemirror_mode": {
    "name": "ipython",
    "version": 3
   },
   "file_extension": ".py",
   "mimetype": "text/x-python",
   "name": "python",
   "nbconvert_exporter": "python",
   "pygments_lexer": "ipython3",
   "version": "3.7.3"
  },
  "toc": {
   "base_numbering": 1,
   "nav_menu": {},
   "number_sections": true,
   "sideBar": true,
   "skip_h1_title": false,
   "title_cell": "Table of Contents",
   "title_sidebar": "Contents",
   "toc_cell": false,
   "toc_position": {},
   "toc_section_display": true,
   "toc_window_display": false
  }
 },
 "nbformat": 4,
 "nbformat_minor": 2
}
