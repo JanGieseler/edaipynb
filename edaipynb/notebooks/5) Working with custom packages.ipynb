{
 "cells": [
  {
   "cell_type": "markdown",
   "metadata": {
    "ExecuteTime": {
     "end_time": "2020-01-07T10:44:25.429130Z",
     "start_time": "2020-01-07T10:44:25.423124Z"
    }
   },
   "source": [
    "# Working with custom packages\n",
    "\n",
    "\n",
    "Check out the Readme.md to for how to install all the tools needed to create our own python package.\n",
    "\n",
    "## the basic structure\n",
    "\n",
    "Let's start with the [minimnal structure](https://python-packaging.readthedocs.io/en/latest/minimal.html).\n",
    " ```\n",
    "edaipynb/\n",
    "    edaipynb/\n",
    "        __init__.py\n",
    "    setup.py\n",
    "``` \n",
    "Note that the project name appears twice here. The higher level is the project and the lower level contains the actual source code. I also already included `setup.py`, which will be used later to distribute the package. The `__init__.py` file indicates that the folder `edaipynb` is actually a python package and not just a simple folder. At this stage `__init__.py` is just an empty text file.\n",
    "\n",
    "Let's create this minimal package and link it to github.\n",
    "\n",
    "- In PyCharm go to `File->New project`, change untitled for the project name (e.g. edaipynb) and select the python interpreter. You can either setup a custom virtual environment or select the standard interpreter. Let's do the latter for now.\n",
    "- Add a new python package with the same name as your project (this automatically creates the `__init__.py` in the new subfolder).\n",
    "- Add the `setup.py` file for example by copying and modifying the file from https://github.com/JanGieseler/edaipynb/setup.py.\n",
    "- add the version number to `edaipynb/__init__.py` by `__version__ = '0.1a0'`\n",
    "- add a `readme.md` and add some [markdown](https://www.markdownguide.org/cheat-sheet) text \n",
    "\n",
    "Your file structure should now looks something like:\n",
    " ```\n",
    "edaipynb/\n",
    "    edaipynb/\n",
    "        __init__.py\n",
    "    setup.py\n",
    "    readme.md\n",
    "``` \n",
    "\n",
    "\n",
    "Tip: The `edaipynb` follows the above structure, so that you can just use it as a template. \n",
    "\n",
    "\n",
    "\n",
    "Now we push the new project to github. Go to `VCS->Import into Version Control->Share Project on Github`\n",
    "\n",
    "That's it!! Now you can check in a browser that your new project  actually appears in your github projects.\n",
    "\n",
    "\n",
    "\n",
    "\n",
    "## install via pip\n",
    "\n",
    "To install the package into the site-packages directory (makes it avaible in Python) call\n",
    "\n",
    "`!pip install git+https://github.com/JanGieseler/edaipynb.git`\n",
    "\n",
    "(Note: the `!` is only needed when you execute from within a notebook)"
   ]
  },
  {
   "cell_type": "code",
   "execution_count": 6,
   "metadata": {
    "ExecuteTime": {
     "end_time": "2020-01-07T16:23:25.409361Z",
     "start_time": "2020-01-07T16:23:19.406464Z"
    }
   },
   "outputs": [
    {
     "name": "stdout",
     "output_type": "stream",
     "text": [
      "Collecting git+https://github.com/JanGieseler/edaipynb.git\n",
      "  Cloning https://github.com/JanGieseler/edaipynb.git to /private/var/folders/gs/74yvf7qs6l57w6f74kdj867c0000gn/T/pip-req-build-vew716h0\n",
      "  Running command git clone -q https://github.com/JanGieseler/edaipynb.git /private/var/folders/gs/74yvf7qs6l57w6f74kdj867c0000gn/T/pip-req-build-vew716h0\n",
      "Requirement already satisfied (use --upgrade to upgrade): edaipynb==0.1a0 from git+https://github.com/JanGieseler/edaipynb.git in /Applications/anaconda3/lib/python3.6/site-packages\n",
      "Requirement already satisfied: matplotlib in /Applications/anaconda3/lib/python3.6/site-packages (from edaipynb==0.1a0) (3.0.2)\n",
      "Requirement already satisfied: pandas in /Applications/anaconda3/lib/python3.6/site-packages (from edaipynb==0.1a0) (0.24.1)\n",
      "Requirement already satisfied: numpy in /Applications/anaconda3/lib/python3.6/site-packages (from edaipynb==0.1a0) (1.15.4)\n",
      "Requirement already satisfied: scipy in /Applications/anaconda3/lib/python3.6/site-packages (from edaipynb==0.1a0) (1.1.0)\n",
      "Requirement already satisfied: lmfit in /Applications/anaconda3/lib/python3.6/site-packages (from edaipynb==0.1a0) (0.9.13)\n",
      "Requirement already satisfied: uncertainties in /Applications/anaconda3/lib/python3.6/site-packages (from edaipynb==0.1a0) (3.1)\n",
      "Requirement already satisfied: cycler>=0.10 in /Applications/anaconda3/lib/python3.6/site-packages (from matplotlib->edaipynb==0.1a0) (0.10.0)\n",
      "Requirement already satisfied: kiwisolver>=1.0.1 in /Applications/anaconda3/lib/python3.6/site-packages (from matplotlib->edaipynb==0.1a0) (1.0.1)\n",
      "Requirement already satisfied: pyparsing!=2.0.4,!=2.1.2,!=2.1.6,>=2.0.1 in /Applications/anaconda3/lib/python3.6/site-packages (from matplotlib->edaipynb==0.1a0) (2.3.1)\n",
      "Requirement already satisfied: python-dateutil>=2.1 in /Applications/anaconda3/lib/python3.6/site-packages (from matplotlib->edaipynb==0.1a0) (2.8.0)\n",
      "Requirement already satisfied: pytz>=2011k in /Applications/anaconda3/lib/python3.6/site-packages (from pandas->edaipynb==0.1a0) (2018.9)\n",
      "Requirement already satisfied: six>1.10 in /Applications/anaconda3/lib/python3.6/site-packages (from lmfit->edaipynb==0.1a0) (1.12.0)\n",
      "Requirement already satisfied: asteval>=0.9.12 in /Applications/anaconda3/lib/python3.6/site-packages (from lmfit->edaipynb==0.1a0) (0.9.14)\n",
      "Requirement already satisfied: setuptools in /Applications/anaconda3/lib/python3.6/site-packages (from kiwisolver>=1.0.1->matplotlib->edaipynb==0.1a0) (41.6.0)\n",
      "Building wheels for collected packages: edaipynb\n",
      "  Building wheel for edaipynb (setup.py) ... \u001b[?25ldone\n",
      "\u001b[?25h  Created wheel for edaipynb: filename=edaipynb-0.1a0-cp36-none-any.whl size=3104 sha256=5e28ab5834ecb1f5dc6e68a7c698e2bcc513a3cfd30ac149e787ab96f6f74159\n",
      "  Stored in directory: /private/var/folders/gs/74yvf7qs6l57w6f74kdj867c0000gn/T/pip-ephem-wheel-cache-byqrmw4z/wheels/e3/60/83/6894a6c578acb690e6f2ae3119ce7bb89cbac16c460f3eafa5\n",
      "Successfully built edaipynb\n"
     ]
    }
   ],
   "source": [
    "!pip install git+https://github.com/JanGieseler/edaipynb.git"
   ]
  },
  {
   "cell_type": "markdown",
   "metadata": {},
   "source": [
    "## switching between the site-package version and the PyCharm (development) version\n",
    "\n",
    "In the following we will use `edaipynb` as an example for how to work with a custom package.\n",
    "\n",
    "\n",
    "The file structure of `edaipynb` should now looks something like:\n",
    "\n",
    " ```\n",
    "edaipynb/\n",
    "    edaipynb/\n",
    "        __init__.py\n",
    "        tools/\n",
    "            notebook.py\n",
    "    setup.py\n",
    "    readme.md\n",
    "``` \n",
    "\n",
    "If you cloned the github version using pycharm you will have a copy located at `/home/PycharmProjects/`\n",
    "\n",
    "If you installed it with pip it will be located in the `site-packages` folder, e.g. `/home/anaconda3/lib/python3.7/site-packages`\n",
    "\n",
    "\n",
    "\n",
    "It is also possible to have both. For exampe the PyCharm version being the development version and the installed 'site-packeges' version the production version, ready for distribution. Below we will see how to load one or the other.\n",
    "\n"
   ]
  },
  {
   "cell_type": "code",
   "execution_count": 1,
   "metadata": {
    "ExecuteTime": {
     "end_time": "2020-01-07T16:25:12.982981Z",
     "start_time": "2020-01-07T16:25:12.359816Z"
    }
   },
   "outputs": [
    {
     "name": "stdout",
     "output_type": "stream",
     "text": [
      "version: 0.1a0\n",
      "location: /Applications/anaconda3/lib/python3.6/site-packages/edaipynb/__init__.py\n"
     ]
    }
   ],
   "source": [
    "import sys # get some information about the current OS\n",
    "import numpy as np\n",
    "from pathlib import Path\n",
    "# uncomment the following line to use the PyCharm version\n",
    "# sys.path = [str(Path.home()/'PycharmProjects/edaipynb')] + sys.path \n",
    "import edaipynb\n",
    "\n",
    "print('version:', edaipynb.__version__)\n",
    "print('location:', edaipynb.__file__)  # check that you loaded the version that you want"
   ]
  },
  {
   "cell_type": "code",
   "execution_count": 2,
   "metadata": {
    "ExecuteTime": {
     "end_time": "2020-01-07T16:25:16.712225Z",
     "start_time": "2020-01-07T16:25:16.689845Z"
    }
   },
   "outputs": [],
   "source": [
    "# the following command reloads external packages that have been changed externally without the need to restart the kernel\n",
    "%load_ext autoreload\n",
    "%autoreload 2"
   ]
  },
  {
   "cell_type": "markdown",
   "metadata": {},
   "source": [
    "## explore some of the functions provided by edaipynb"
   ]
  },
  {
   "cell_type": "code",
   "execution_count": 4,
   "metadata": {
    "ExecuteTime": {
     "end_time": "2020-01-07T16:32:16.615559Z",
     "start_time": "2020-01-07T16:32:16.597037Z"
    }
   },
   "outputs": [],
   "source": [
    "from edaipynb import get_notebook_name, save_notebook_as_html"
   ]
  },
  {
   "cell_type": "code",
   "execution_count": 7,
   "metadata": {
    "ExecuteTime": {
     "end_time": "2020-01-07T16:32:36.352545Z",
     "start_time": "2020-01-07T16:32:36.322186Z"
    }
   },
   "outputs": [
    {
     "data": {
      "text/plain": [
       "'/Users/rettentulla/PycharmProjects/edaipynb/edaipynb/notebooks/5) Working with custom packages.ipynb'"
      ]
     },
     "execution_count": 7,
     "metadata": {},
     "output_type": "execute_result"
    }
   ],
   "source": [
    "get_notebook_name()"
   ]
  },
  {
   "cell_type": "code",
   "execution_count": 10,
   "metadata": {
    "ExecuteTime": {
     "end_time": "2020-01-07T16:33:23.581154Z",
     "start_time": "2020-01-07T16:33:20.441492Z"
    }
   },
   "outputs": [
    {
     "data": {
      "application/javascript": [
       "IPython.notebook.save_notebook()"
      ]
     },
     "metadata": {},
     "output_type": "display_data"
    },
    {
     "name": "stdout",
     "output_type": "stream",
     "text": [
      "../../html/5) Working with custom packages.html saved\n"
     ]
    }
   ],
   "source": [
    "save_notebook_as_html(Path('../../html'))"
   ]
  },
  {
   "cell_type": "markdown",
   "metadata": {},
   "source": [
    "## Exercises\n",
    "<p style=\"color: red;\"> Ex1:</p>\n",
    "Try changing a function in `edaipynb` and without restarting the kernal, see the result change.\n",
    "\n",
    "<p style=\"color: red;\"> Ex2:</p>\n",
    "Change the above code to load the PyCharm version or the site-packages version. How do you knoe you have the right one?\n",
    "\n",
    "<p style=\"color: red;\"> Ex3:</p>\n",
    "Make a change to the PyCharm (development) version, push it to github and update your local (site-packages) version."
   ]
  },
  {
   "cell_type": "code",
   "execution_count": null,
   "metadata": {},
   "outputs": [],
   "source": []
  }
 ],
 "metadata": {
  "hide_input": false,
  "kernelspec": {
   "display_name": "Python [default]",
   "language": "python",
   "name": "python3"
  },
  "language_info": {
   "codemirror_mode": {
    "name": "ipython",
    "version": 3
   },
   "file_extension": ".py",
   "mimetype": "text/x-python",
   "name": "python",
   "nbconvert_exporter": "python",
   "pygments_lexer": "ipython3",
   "version": "3.6.8"
  },
  "toc": {
   "base_numbering": 1,
   "nav_menu": {},
   "number_sections": true,
   "sideBar": true,
   "skip_h1_title": false,
   "title_cell": "Table of Contents",
   "title_sidebar": "Contents",
   "toc_cell": false,
   "toc_position": {},
   "toc_section_display": true,
   "toc_window_display": true
  }
 },
 "nbformat": 4,
 "nbformat_minor": 2
}
