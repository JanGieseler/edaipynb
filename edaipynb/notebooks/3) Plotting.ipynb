{
 "cells": [
  {
   "cell_type": "markdown",
   "metadata": {},
   "source": [
    "# Plotting"
   ]
  },
  {
   "cell_type": "code",
   "execution_count": null,
   "metadata": {},
   "outputs": [],
   "source": [
    "import numpy as np # widely used python library for data manipulation, the 'as' allows you to rename the package on import\n",
    "import pandas as pd\n",
    "import json, yaml\n",
    "import sys # get some information about the current OS\n",
    "\n",
    "import matplotlib.pyplot as plt\n",
    "\n",
    "# show figures inline in the notebook\n",
    "%matplotlib inline \n",
    "\n",
    "\n",
    "from pathlib import Path  # working with path objects - usefull for OS independent code\n",
    "\n",
    "path_data = Path('./data_tmp')"
   ]
  },
  {
   "cell_type": "markdown",
   "metadata": {},
   "source": [
    "## Define some functions"
   ]
  },
  {
   "cell_type": "code",
   "execution_count": 2,
   "metadata": {
    "ExecuteTime": {
     "end_time": "2020-01-07T10:37:30.197764Z",
     "start_time": "2020-01-07T10:37:30.184053Z"
    }
   },
   "outputs": [],
   "source": [
    "# def my_function()\n",
    "my_function = lambda x, a, b : np.sin(a*x)*np.exp(-b*x)"
   ]
  },
  {
   "cell_type": "markdown",
   "metadata": {
    "ExecuteTime": {
     "end_time": "2020-01-07T09:56:13.530787Z",
     "start_time": "2020-01-07T09:56:13.522179Z"
    }
   },
   "source": [
    "# Matplotlib\n",
    "\n",
    "There exists great material to procude all kinds of figures.\n",
    "\n",
    "https://matplotlib.org/tutorials/index.html"
   ]
  },
  {
   "cell_type": "code",
   "execution_count": null,
   "metadata": {},
   "outputs": [],
   "source": []
  }
 ],
 "metadata": {
  "kernelspec": {
   "display_name": "Python 3",
   "language": "python",
   "name": "python3"
  },
  "language_info": {
   "codemirror_mode": {
    "name": "ipython",
    "version": 3
   },
   "file_extension": ".py",
   "mimetype": "text/x-python",
   "name": "python",
   "nbconvert_exporter": "python",
   "pygments_lexer": "ipython3",
   "version": "3.7.3"
  },
  "toc": {
   "base_numbering": 1,
   "nav_menu": {},
   "number_sections": true,
   "sideBar": true,
   "skip_h1_title": false,
   "title_cell": "Table of Contents",
   "title_sidebar": "Contents",
   "toc_cell": false,
   "toc_position": {},
   "toc_section_display": true,
   "toc_window_display": false
  }
 },
 "nbformat": 4,
 "nbformat_minor": 2
}
