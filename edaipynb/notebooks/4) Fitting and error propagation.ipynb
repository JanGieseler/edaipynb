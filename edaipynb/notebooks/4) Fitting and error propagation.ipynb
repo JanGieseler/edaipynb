{
 "cells": [
  {
   "cell_type": "markdown",
   "metadata": {},
   "source": [
    "# Fitting and error propagation\n",
    "\n",
    "One of the most popular fitting tools is [SciPy curve_fitting](https://docs.scipy.org/doc/scipy/reference/generated/scipy.optimize.curve_fit.html).\n",
    "\n",
    "However, often we want to also get an estimate on the error of the fit-parameters and derived quantities. \n",
    "\n",
    "This can be very easily done with the [lmfit](https://lmfit.github.io/lmfit-py/) and [uncertainty packages](https://pythonhosted.org/uncertainties/), which we will discuss here."
   ]
  },
  {
   "cell_type": "code",
   "execution_count": 1,
   "metadata": {
    "ExecuteTime": {
     "end_time": "2020-01-08T09:34:12.755593Z",
     "start_time": "2020-01-08T09:34:11.000352Z"
    }
   },
   "outputs": [],
   "source": [
    "import numpy as np # widely used python library for data manipulation, the 'as' allows you to rename the package on import\n",
    "import pandas as pd\n",
    "import json, yaml\n",
    "import sys # get some information about the current OS\n",
    "\n",
    "import matplotlib.pyplot as plt\n",
    "\n",
    "# show figures inline in the notebook\n",
    "%matplotlib inline \n",
    "\n",
    "\n",
    "from pathlib import Path  # working with path objects - usefull for OS independent code\n",
    "\n",
    "\n",
    "import lmfit # for more information see https://lmfit.github.io/lmfit-py/\n",
    "from uncertainties import ufloat, umath, correlated_values,covariance_matrix  # packages to work with uncertainties\n"
   ]
  },
  {
   "cell_type": "markdown",
   "metadata": {},
   "source": [
    "## Generate the data"
   ]
  },
  {
   "cell_type": "code",
   "execution_count": 2,
   "metadata": {
    "ExecuteTime": {
     "end_time": "2020-01-08T09:34:12.761165Z",
     "start_time": "2020-01-08T09:34:12.757735Z"
    }
   },
   "outputs": [],
   "source": [
    "def gaussian(x, amp, cen, wid):\n",
    "    return amp * np.exp(-(x-cen)**2 / wid)\n",
    "\n",
    "x = np.linspace(-10, 10, 101)\n",
    "y = gaussian(x, 2.33, 0.21, 1.51) + np.random.normal(0, 0.2, x.size)\n"
   ]
  },
  {
   "cell_type": "markdown",
   "metadata": {},
   "source": [
    "## Fitting with uncertainties"
   ]
  },
  {
   "cell_type": "code",
   "execution_count": 3,
   "metadata": {
    "ExecuteTime": {
     "end_time": "2020-01-08T09:34:13.920242Z",
     "start_time": "2020-01-08T09:34:13.733593Z"
    }
   },
   "outputs": [
    {
     "name": "stdout",
     "output_type": "stream",
     "text": [
      "parameter names: ['amp', 'cen', 'wid']\n",
      "independent variables: ['x']\n"
     ]
    },
    {
     "data": {
      "image/png": "[encoded data removed]",
      "text/plain": [
       "<Figure size 432x288 with 1 Axes>"
      ]
     },
     "metadata": {
      "needs_background": "light"
     },
     "output_type": "display_data"
    }
   ],
   "source": [
    "\n",
    "gmodel = lmfit.Model(gaussian) # turn the function into a model\n",
    "print('parameter names: {}'.format(gmodel.param_names))\n",
    "print('independent variables: {}'.format(gmodel.independent_vars))\n",
    "\n",
    "params = gmodel.make_params(cen=1, amp=20, wid=2) # generate the parametes from the function arguments and provide some initial guess\n",
    "\n",
    "params['amp'].set(min = 0) # you can set limits for the parameters, e.g. the amplitude is always positive\n",
    "\n",
    "# params['wid'].set(vary=False) # you can also fix some parameters - try with and without!\n",
    "\n",
    "result = gmodel.fit(y, params, x=x)  # fit the model to the data\n",
    "\n",
    "# plot the data, the initial guess and the fit result\n",
    "plt.plot(x, y, 'bo')\n",
    "plt.plot(x, result.init_fit, 'k--', label='initial fit')\n",
    "plt.plot(x, result.best_fit, 'r-', label='best fit')\n",
    "plt.legend(loc='best')\n",
    "plt.show()"
   ]
  },
  {
   "cell_type": "code",
   "execution_count": 4,
   "metadata": {
    "ExecuteTime": {
     "end_time": "2020-01-08T09:34:32.189113Z",
     "start_time": "2020-01-08T09:34:32.183607Z"
    }
   },
   "outputs": [
    {
     "data": {
      "text/html": [
       "<table><tr><th> name </th><th> value </th><th> initial value </th><th> min </th><th> max </th><th> vary </th></tr><tr><td> amp </td><td>  20.0000000 </td><td> None </td><td>  0.00000000 </td><td>         inf </td><td> True </td></tr><tr><td> cen </td><td>  1.00000000 </td><td> None </td><td>        -inf </td><td>         inf </td><td> True </td></tr><tr><td> wid </td><td>  2.00000000 </td><td> None </td><td>        -inf </td><td>         inf </td><td> True </td></tr></table>"
      ],
      "text/plain": [
       "Parameters([('amp', <Parameter 'amp', 20, bounds=[0:inf]>),\n",
       "            ('cen', <Parameter 'cen', 1, bounds=[-inf:inf]>),\n",
       "            ('wid', <Parameter 'wid', 2, bounds=[-inf:inf]>)])"
      ]
     },
     "execution_count": 4,
     "metadata": {},
     "output_type": "execute_result"
    }
   ],
   "source": [
    "params # show the initial guesses and intervals"
   ]
  },
  {
   "cell_type": "markdown",
   "metadata": {},
   "source": [
    "show the fit report"
   ]
  },
  {
   "cell_type": "code",
   "execution_count": 5,
   "metadata": {
    "ExecuteTime": {
     "end_time": "2020-01-08T09:34:33.125318Z",
     "start_time": "2020-01-08T09:34:33.120605Z"
    }
   },
   "outputs": [
    {
     "data": {
      "text/html": [
       "<h2> Model</h2> Model(gaussian) <h2>Fit Statistics</h2><table><tr><td>fitting method</td><td>leastsq</td><td></td></tr><tr><td># function evals</td><td>29</td><td></td></tr><tr><td># data points</td><td>101</td><td></td></tr><tr><td># variables</td><td>3</td><td></td></tr><tr><td>chi-square</td><td> 3.26884541</td><td></td></tr><tr><td>reduced chi-square</td><td> 0.03335557</td><td></td></tr><tr><td>Akaike info crit.</td><td>-340.499052</td><td></td></tr><tr><td>Bayesian info crit.</td><td>-332.653690</td><td></td></tr></table><h2>Variables</h2><table><tr><th> name </th><th> value </th><th> standard error </th><th> relative error </th><th> initial value </th><th> min </th><th> max </th><th> vary </th></tr><tr><td> amp </td><td>  2.41686393 </td><td>  0.08068397 </td><td> 3.34% </td><td> 20 </td><td>  0.00000000 </td><td>         inf </td><td> True </td></tr><tr><td> cen </td><td>  0.20642624 </td><td>  0.03342967 </td><td> 16.19% </td><td> 1 </td><td>        -inf </td><td>         inf </td><td> True </td></tr><tr><td> wid </td><td>  1.50436873 </td><td>  0.11596597 </td><td> 7.71% </td><td> 2 </td><td>        -inf </td><td>         inf </td><td> True </td></tr></table><h2>Correlations (unreported correlations are < 0.100)</h2><table><tr><td>amp</td><td>wid</td><td>-0.5774</td></tr></table>"
      ],
      "text/plain": [
       "<lmfit.model.ModelResult at 0x1a200a8e48>"
      ]
     },
     "execution_count": 5,
     "metadata": {},
     "output_type": "execute_result"
    }
   ],
   "source": [
    "result"
   ]
  },
  {
   "cell_type": "markdown",
   "metadata": {},
   "source": [
    "## error propagation"
   ]
  },
  {
   "cell_type": "markdown",
   "metadata": {},
   "source": [
    "### the uncertainties package\n",
    "https://pythonhosted.org/uncertainties/"
   ]
  },
  {
   "cell_type": "code",
   "execution_count": 6,
   "metadata": {
    "ExecuteTime": {
     "end_time": "2020-01-08T09:34:38.452171Z",
     "start_time": "2020-01-08T09:34:38.446452Z"
    }
   },
   "outputs": [
    {
     "name": "stdout",
     "output_type": "stream",
     "text": [
      "2.00+/-0.20\n",
      "0.91+/-0.08\n"
     ]
    }
   ],
   "source": [
    "from uncertainties import ufloat\n",
    "from uncertainties.umath import *  # sin(), etc.\n",
    "x = ufloat(1, 0.1)  # x = 1+/-0.1\n",
    "print(2*x)\n",
    "print(sin(2*x))\n"
   ]
  },
  {
   "cell_type": "markdown",
   "metadata": {},
   "source": [
    "Another strength of this package is its correct handling of **correlations**. For instance, the following quantity is exactly zero even though x has an uncertainty:"
   ]
  },
  {
   "cell_type": "code",
   "execution_count": 7,
   "metadata": {
    "ExecuteTime": {
     "end_time": "2020-01-08T09:34:40.230263Z",
     "start_time": "2020-01-08T09:34:40.225869Z"
    }
   },
   "outputs": [
    {
     "data": {
      "text/plain": [
       "0.0+/-0"
      ]
     },
     "execution_count": 7,
     "metadata": {},
     "output_type": "execute_result"
    }
   ],
   "source": [
    "x-x"
   ]
  },
  {
   "cell_type": "markdown",
   "metadata": {},
   "source": [
    "### correlated variables from fit"
   ]
  },
  {
   "cell_type": "code",
   "execution_count": 8,
   "metadata": {
    "ExecuteTime": {
     "end_time": "2020-01-08T09:34:47.944113Z",
     "start_time": "2020-01-08T09:34:47.937054Z"
    }
   },
   "outputs": [],
   "source": [
    "# extract the values preserving the correlations between them\n",
    "values_corr = correlated_values(result.best_values.values(), result.covar)\n",
    "# extract the values ignoring correlations between them\n",
    "values = [ufloat(m,s) for m,s in zip(result.best_values.values(), np.sqrt(np.diag(result.covar)))]"
   ]
  },
  {
   "cell_type": "code",
   "execution_count": 9,
   "metadata": {
    "ExecuteTime": {
     "end_time": "2020-01-08T09:34:53.473427Z",
     "start_time": "2020-01-08T09:34:53.468968Z"
    }
   },
   "outputs": [
    {
     "name": "stdout",
     "output_type": "stream",
     "text": [
      "mean: [0.0, 0.0, 0.0]\n",
      "std: [2.7755575615628914e-17, 0.0, 2.7755575615628914e-17]\n"
     ]
    }
   ],
   "source": [
    "# the mean and error are the same for both\n",
    "print('mean:', [x1.n-x2.n for x1, x2 in zip(values, values_corr)])\n",
    "print('std:', [x1.s-x2.s for x1, x2 in zip(values, values_corr)])"
   ]
  },
  {
   "cell_type": "code",
   "execution_count": 10,
   "metadata": {
    "ExecuteTime": {
     "end_time": "2020-01-08T09:34:56.909850Z",
     "start_time": "2020-01-08T09:34:56.906924Z"
    }
   },
   "outputs": [],
   "source": [
    "# define some function that uses two values with uncertainties\n",
    "g = lambda x1, x2 : x1/x2"
   ]
  },
  {
   "cell_type": "code",
   "execution_count": 11,
   "metadata": {
    "ExecuteTime": {
     "end_time": "2020-01-08T09:34:58.154542Z",
     "start_time": "2020-01-08T09:34:58.149797Z"
    }
   },
   "outputs": [
    {
     "data": {
      "text/plain": [
       "1.6065635289421838+/-0.16088336700897407"
      ]
     },
     "execution_count": 11,
     "metadata": {},
     "output_type": "execute_result"
    }
   ],
   "source": [
    "# calculate g with the correlations\n",
    "g(values_corr[0], values_corr[2])"
   ]
  },
  {
   "cell_type": "code",
   "execution_count": 12,
   "metadata": {
    "ExecuteTime": {
     "end_time": "2020-01-08T09:34:59.607850Z",
     "start_time": "2020-01-08T09:34:59.603276Z"
    }
   },
   "outputs": [
    {
     "data": {
      "text/plain": [
       "1.6065635289421838+/-0.13495847742167114"
      ]
     },
     "execution_count": 12,
     "metadata": {},
     "output_type": "execute_result"
    }
   ],
   "source": [
    "# calculate g without the correlations\n",
    "g(values[0], values[2])"
   ]
  },
  {
   "cell_type": "markdown",
   "metadata": {},
   "source": [
    "# save notebook as html"
   ]
  },
  {
   "cell_type": "code",
   "execution_count": 1,
   "metadata": {
    "ExecuteTime": {
     "end_time": "2020-01-07T16:43:33.122668Z",
     "start_time": "2020-01-07T16:43:29.446765Z"
    }
   },
   "outputs": [
    {
     "data": {
      "application/javascript": [
       "IPython.notebook.save_notebook()"
      ]
     },
     "metadata": {},
     "output_type": "display_data"
    },
    {
     "name": "stdout",
     "output_type": "stream",
     "text": [
      "../../html/4) Fitting and error propagation.html saved\n"
     ]
    }
   ],
   "source": [
    "from edaipynb import save_notebook_as_html\n",
    "save_notebook_as_html('../../html')"
   ]
  },
  {
   "cell_type": "code",
   "execution_count": null,
   "metadata": {},
   "outputs": [],
   "source": []
  }
 ],
 "metadata": {
  "hide_input": false,
  "kernelspec": {
   "display_name": "Python [default]",
   "language": "python",
   "name": "python3"
  },
  "language_info": {
   "codemirror_mode": {
    "name": "ipython",
    "version": 3
   },
   "file_extension": ".py",
   "mimetype": "text/x-python",
   "name": "python",
   "nbconvert_exporter": "python",
   "pygments_lexer": "ipython3",
   "version": "3.6.8"
  },
  "toc": {
   "base_numbering": 1,
   "nav_menu": {},
   "number_sections": true,
   "sideBar": true,
   "skip_h1_title": false,
   "title_cell": "Table of Contents",
   "title_sidebar": "Contents",
   "toc_cell": false,
   "toc_position": {},
   "toc_section_display": true,
   "toc_window_display": true
  }
 },
 "nbformat": 4,
 "nbformat_minor": 2
}
